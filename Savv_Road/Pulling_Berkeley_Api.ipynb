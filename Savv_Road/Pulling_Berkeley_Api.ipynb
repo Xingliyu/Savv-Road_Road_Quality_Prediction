{
 "cells": [
  {
   "cell_type": "code",
   "execution_count": null,
   "metadata": {
    "id": "QKvI_DyCpHr7"
   },
   "outputs": [],
   "source": [
    "import numpy as np\n",
    "import pandas as pd\n",
    "import matplotlib.pyplot as plt\n",
    "import regex as re\n",
    "import requests\n",
    "import json\n",
    "import matplotlib.pyplot as plt\n",
    "import matplotlib.image as mpimg\n",
    "from keras.preprocessing import image\n",
    "import cv2\n",
    "import pickle as pkl\n",
    "# jupyter notebook magic to display plots in output\n",
    "%matplotlib inline"
   ]
  },
  {
   "cell_type": "code",
   "execution_count": null,
   "metadata": {
    "colab": {
     "base_uri": "https://localhost:8080/"
    },
    "id": "J7Dp_g3VBBsM",
    "outputId": "7f37e821-2b7b-493c-c26f-f24e91131d78"
   },
   "outputs": [
    {
     "name": "stdout",
     "output_type": "stream",
     "text": [
      "Drive already mounted at /content/drive/; to attempt to forcibly remount, call drive.mount(\"/content/drive/\", force_remount=True).\n",
      "/content/drive/.shortcut-targets-by-id/19rXw0lw__ZgpIRA9o5KsJsAmOyq3r8Pb/Final_Project_Submissions_and_Files\n"
     ]
    }
   ],
   "source": [
    "#mount drive to pull csv. Only works if you make a shortcut out of the submission folder\n",
    "from google.colab import drive\n",
    "drive.mount('/content/drive/')\n",
    "%cd /content/drive/MyDrive/Final_Project_Submissions_and_Files/"
   ]
  },
  {
   "cell_type": "markdown",
   "metadata": {
    "id": "STilAoHi1HAE"
   },
   "source": [
    "# Get Berkleley Coordinates"
   ]
  },
  {
   "cell_type": "code",
   "execution_count": null,
   "metadata": {
    "id": "Th-9bbSdpRWL"
   },
   "outputs": [],
   "source": [
    "coor = pd.read_csv('berkeley_latlon.csv')"
   ]
  },
  {
   "cell_type": "code",
   "execution_count": null,
   "metadata": {
    "colab": {
     "base_uri": "https://localhost:8080/",
     "height": 35
    },
    "id": "fP-CgJFnpfCL",
    "outputId": "97bb51a3-2297-43a5-aa55-0c30ddd9d18a"
   },
   "outputs": [
    {
     "data": {
      "application/vnd.google.colaboratory.intrinsic+json": {
       "type": "string"
      },
      "text/plain": [
       "'37.85399590164562,-122.24576845323176'"
      ]
     },
     "execution_count": 22,
     "metadata": {},
     "output_type": "execute_result"
    }
   ],
   "source": [
    "long = coor['longitude'].tolist()\n",
    "lat = coor['latitude'].tolist()\n",
    "str(long[0]) + ',' + str(lat[0])"
   ]
  },
  {
   "cell_type": "code",
   "execution_count": null,
   "metadata": {
    "id": "90IKPORJHlyK"
   },
   "outputs": [],
   "source": [
    "long_lat_str = []\n",
    "for i in range(len(long)):\n",
    "  temp_str = str(long[i]) + ',' + str(lat[i])\n",
    "  long_lat_str.append(temp_str)"
   ]
  },
  {
   "cell_type": "code",
   "execution_count": null,
   "metadata": {
    "colab": {
     "base_uri": "https://localhost:8080/"
    },
    "id": "mpnlz6KSp85b",
    "outputId": "07a7ec81-9aa7-4da6-c370-fc8da99fd10c"
   },
   "outputs": [
    {
     "data": {
      "text/plain": [
       "6969"
      ]
     },
     "execution_count": 24,
     "metadata": {},
     "output_type": "execute_result"
    }
   ],
   "source": [
    "# len(long_lat_str)"
   ]
  },
  {
   "cell_type": "code",
   "execution_count": null,
   "metadata": {
    "colab": {
     "base_uri": "https://localhost:8080/"
    },
    "id": "1CukUvg1jWDZ",
    "outputId": "485dfcb0-71f4-4aac-fa9e-ba0604fecf91"
   },
   "outputs": [
    {
     "data": {
      "text/plain": [
       "3000"
      ]
     },
     "execution_count": 26,
     "metadata": {},
     "output_type": "execute_result"
    }
   ],
   "source": [
    "final_coor_3000 = long_lat_str[:3000]\n",
    "len(final_coor_3000)"
   ]
  },
  {
   "cell_type": "code",
   "execution_count": null,
   "metadata": {
    "id": "nyvze63VjfcS"
   },
   "outputs": [],
   "source": [
    "split_coords = [re.split(r',',i) for i in final_coor_3000]\n",
    "lat = []\n",
    "lon = []\n",
    "for pair in split_coords:\n",
    "    temp_lat, temp_lon = pair\n",
    "    lat.append(temp_lat)\n",
    "    lon.append(temp_lon)"
   ]
  },
  {
   "cell_type": "code",
   "execution_count": null,
   "metadata": {
    "id": "E59mYVr0193T"
   },
   "outputs": [],
   "source": [
    "# API key\n",
    "meta_base = 'https://maps.googleapis.com/maps/api/streetview/metadata?'\n",
    "pic_base = 'https://maps.googleapis.com/maps/api/streetview?'\n",
    "api_key = 'your_api_key'\n",
    "\n",
    "# This will be the input from anvil\n",
    "location = '2121 I St NW, Washington, DC 20052'"
   ]
  },
  {
   "cell_type": "markdown",
   "metadata": {
    "id": "CWHpRu9V2CmL"
   },
   "source": [
    "# Set Up Google Static Street View API"
   ]
  },
  {
   "cell_type": "code",
   "execution_count": null,
   "metadata": {
    "id": "7Tq0eK7q2qR5"
   },
   "outputs": [],
   "source": [
    "class StreetViewer(object):\n",
    "    def __init__(self, api_key, location, size=\"640x640\", pitch=-90,\n",
    "                 folder_directory='/content/drive/MyDrive/imaing_data/', verbose=True):\n",
    "        \"\"\"\n",
    "        This class handles a single API request to the Google Static Street View API\n",
    "        api_key: obtain it from your Google Cloud Platform console\n",
    "        location: the address string or a (lat, lng) tuple\n",
    "        size: returned picture size. maximum is 640*640\n",
    "        folder_directory: directory to save the returned objects from request\n",
    "        verbose: whether to print the processing status of the request\n",
    "        \"\"\"\n",
    "        # input params are saved as attributes for later reference\n",
    "        self._key = api_key\n",
    "        self.location = location\n",
    "        self.size = size\n",
    "        self.pitch = pitch\n",
    "        self.folder_directory = folder_directory\n",
    "        # call parames are saved as internal params\n",
    "        self._meta_params = dict(key=self._key,\n",
    "                                location=self.location)\n",
    "        self._pic_params = dict(key=self._key,\n",
    "                               location=self.location,\n",
    "                               size=self.size,\n",
    "                                pitch=self.pitch)\n",
    "        self.verbose = verbose\n",
    "\n",
    "    def get_meta(self):\n",
    "        \"\"\"\n",
    "        Method to query the metadata of the address\n",
    "        \"\"\"\n",
    "        # saving the metadata as json for later usage\n",
    "        # \"/\"s are removed to avoid confusion on directory\n",
    "        self.meta_path = \"{}meta_{}.json\".format(\n",
    "            self.folder_directory, self.location.replace(\"/\", \"\"))\n",
    "        self._meta_response = requests.get(\n",
    "            'https://maps.googleapis.com/maps/api/streetview/metadata?',\n",
    "            params=self._meta_params)\n",
    "        # turning the contents as meta_info attribute\n",
    "        self.meta_info = self._meta_response.json()\n",
    "        # meta_status attribute is used in get_pic method to avoid\n",
    "        # query when no picture will be available\n",
    "        self.meta_status = self.meta_info['status']\n",
    "        if self._meta_response.ok:\n",
    "            if self.verbose:\n",
    "                print(\">>> Obtained Meta from StreetView API:\")\n",
    "                print(self.meta_info)\n",
    "            with open(self.meta_path, 'w') as file:\n",
    "                json.dump(self.meta_info, file)\n",
    "        else:\n",
    "            print(\">>> Failed to obtain Meta from StreetView API!!!\")\n",
    "        self._meta_response.close()\n",
    "\n",
    "    def get_pic(self):\n",
    "        \"\"\"\n",
    "        Method to query the StreetView picture and save to local directory\n",
    "        \"\"\"\n",
    "        # define path to save picture and headers\n",
    "        self.pic_path = \"{}pic_{}.jpg\".format(\n",
    "            self.folder_directory, self.location.replace(\"/\", \"\"))\n",
    "        self.header_path = \"{}header_{}.json\".format(\n",
    "            self.folder_directory, self.location.replace(\"/\", \"\"))\n",
    "        # only when meta_status is OK will the code run to query picture (cost incurred)\n",
    "        if self.meta_status == 'OK':\n",
    "            if self.verbose:\n",
    "                print(\">>> Picture available, requesting now...\")\n",
    "            self._pic_response = requests.get(\n",
    "                'https://maps.googleapis.com/maps/api/streetview?',\n",
    "                params=self._pic_params)\n",
    "            self.pic_header = dict(self._pic_response.headers)\n",
    "            if self._pic_response.ok:\n",
    "                if self.verbose:\n",
    "                    print(f\">>> Saving objects to {self.folder_directory}\")\n",
    "                with open(self.pic_path, 'wb') as file:\n",
    "                    file.write(self._pic_response.content)\n",
    "                with open(self.header_path, 'w') as file:\n",
    "                    json.dump(self.pic_header, file)\n",
    "                self._pic_response.close()\n",
    "                if self.verbose:\n",
    "                    print(\">>> COMPLETE!\")\n",
    "        else:\n",
    "            print(\">>> Picture not available in StreetView, ABORTING!\")\n",
    "\n",
    "    def display_pic(self):\n",
    "        \"\"\"\n",
    "        Method to display the downloaded street view picture if available\n",
    "        \"\"\"\n",
    "        if self.meta_status == 'OK':\n",
    "            plt.figure(figsize=(10, 10))\n",
    "            img=mpimg.imread(self.pic_path)\n",
    "            imgplot = plt.imshow(img)\n",
    "            plt.show()\n",
    "        else:\n",
    "            print(\">>> Picture not available in StreetView, ABORTING!\")"
   ]
  },
  {
   "cell_type": "code",
   "execution_count": null,
   "metadata": {
    "colab": {
     "base_uri": "https://localhost:8080/"
    },
    "id": "IeE5BN9T25-2",
    "outputId": "e408b6ef-18c3-4807-b42b-e07312915543"
   },
   "outputs": [
    {
     "name": "stdout",
     "output_type": "stream",
     "text": [
      "/content/drive/.shortcut-targets-by-id/19rXw0lw__ZgpIRA9o5KsJsAmOyq3r8Pb/Final_Project_Submissions_and_Files/imaing_data\n"
     ]
    }
   ],
   "source": [
    "%cd /content/drive/MyDrive/imaing_data/"
   ]
  },
  {
   "cell_type": "markdown",
   "metadata": {
    "id": "wWRXztul2pY0"
   },
   "source": [
    "# Call API (commented out, don't call)"
   ]
  },
  {
   "cell_type": "code",
   "execution_count": null,
   "metadata": {
    "colab": {
     "base_uri": "https://localhost:8080/",
     "height": 240
    },
    "id": "y_XoB-h53snK",
    "outputId": "cbf83bb4-b78a-4f0b-8086-2decfb105803"
   },
   "outputs": [
    {
     "ename": "NameError",
     "evalue": "ignored",
     "output_type": "error",
     "traceback": [
      "\u001b[0;31m---------------------------------------------------------------------------\u001b[0m",
      "\u001b[0;31mNameError\u001b[0m                                 Traceback (most recent call last)",
      "\u001b[0;32m<ipython-input-11-dcc345325102>\u001b[0m in \u001b[0;36m<module>\u001b[0;34m()\u001b[0m\n\u001b[1;32m     12\u001b[0m \u001b[0;34m\u001b[0m\u001b[0m\n\u001b[1;32m     13\u001b[0m   \u001b[0;32mtry\u001b[0m\u001b[0;34m:\u001b[0m\u001b[0;34m\u001b[0m\u001b[0;34m\u001b[0m\u001b[0m\n\u001b[0;32m---> 14\u001b[0;31m     \u001b[0mimg_temp\u001b[0m \u001b[0;34m=\u001b[0m \u001b[0mimage\u001b[0m\u001b[0;34m.\u001b[0m\u001b[0mload_img\u001b[0m\u001b[0;34m(\u001b[0m\u001b[0mstreet_viewer_start\u001b[0m\u001b[0;34m.\u001b[0m\u001b[0mpic_path\u001b[0m\u001b[0;34m)\u001b[0m\u001b[0;34m\u001b[0m\u001b[0;34m\u001b[0m\u001b[0m\n\u001b[0m\u001b[1;32m     15\u001b[0m     \u001b[0mplt\u001b[0m\u001b[0;34m.\u001b[0m\u001b[0mimshow\u001b[0m\u001b[0;34m(\u001b[0m\u001b[0mimg_temp\u001b[0m\u001b[0;34m)\u001b[0m\u001b[0;34m\u001b[0m\u001b[0;34m\u001b[0m\u001b[0m\n\u001b[1;32m     16\u001b[0m     \u001b[0mprint\u001b[0m\u001b[0;34m(\u001b[0m\u001b[0mnp\u001b[0m\u001b[0;34m.\u001b[0m\u001b[0marray\u001b[0m\u001b[0;34m(\u001b[0m\u001b[0mimg_temp\u001b[0m\u001b[0;34m)\u001b[0m\u001b[0;34m.\u001b[0m\u001b[0mshape\u001b[0m\u001b[0;34m)\u001b[0m\u001b[0;34m\u001b[0m\u001b[0;34m\u001b[0m\u001b[0m\n",
      "\u001b[0;31mNameError\u001b[0m: name 'street_viewer_start' is not defined"
     ]
    }
   ],
   "source": [
    "img = []\n",
    "new_long_lat_str = []\n",
    "\n",
    "for i, street in enumerate(long_lat_str[:50]):\n",
    "\n",
    "  # folder_directory='/content/drive/MyDrive/streetviews/'\n",
    "\n",
    "  #Don't run\n",
    "  # street_viewer_start = StreetViewer(api_key=api_key,location= street)\n",
    "  # start = street_viewer_start.get_meta()\n",
    "  # start_pic = street_viewer_start.get_pic()\n",
    "\n",
    "  try:\n",
    "    img_temp = image.load_img(street_viewer_start.pic_path)\n",
    "    plt.imshow(img_temp)\n",
    "    print(np.array(img_temp).shape)\n",
    "    img_temp = np.array(img_temp)\n",
    "    img_temp = cv2.resize(img_temp, (133,133))\n",
    "    img.append(img_temp)\n",
    "    new_long_lat_str.append(street)\n",
    "\n",
    "  except FileNotFoundError:\n",
    "    print('File is not valid for google steet api')"
   ]
  },
  {
   "cell_type": "code",
   "execution_count": null,
   "metadata": {
    "id": "FeNcuFRWFbbY"
   },
   "outputs": [],
   "source": [
    "for i, street in enumerate(long_lat_str[50:100]):\n",
    "\n",
    "  # folder_directory='/content/drive/MyDrive/streetviews/'\n",
    "\n",
    "  #Don't run\n",
    "  # street_viewer_start = StreetViewer(api_key=api_key,location= street)\n",
    "  # start = street_viewer_start.get_meta()\n",
    "  # start_pic = street_viewer_start.get_pic()\n",
    "\n",
    "  try:\n",
    "    img_temp = image.load_img(street_viewer_start.pic_path)\n",
    "    plt.imshow(img_temp)\n",
    "    print(np.array(img_temp).shape)\n",
    "    img_temp = np.array(img_temp)\n",
    "    img_temp = cv2.resize(img_temp, (133,133))\n",
    "    img.append(img_temp)\n",
    "    new_long_lat_str.append(street)\n",
    "\n",
    "  except FileNotFoundError:\n",
    "    print('File is not valid for google steet api')"
   ]
  },
  {
   "cell_type": "code",
   "execution_count": null,
   "metadata": {
    "id": "JGR2Mf20Fxgy"
   },
   "outputs": [],
   "source": [
    "for i, street in enumerate(long_lat_str[100:1000]):\n",
    "\n",
    "  # folder_directory='/content/drive/MyDrive/streetviews/'\n",
    "\n",
    "  #Don't run\n",
    "  # street_viewer_start = StreetViewer(api_key=api_key,location= street)\n",
    "  # start = street_viewer_start.get_meta()\n",
    "  # start_pic = street_viewer_start.get_pic()\n",
    "\n",
    "  try:\n",
    "    img_temp = image.load_img(street_viewer_start.pic_path)\n",
    "    plt.imshow(img_temp)\n",
    "    print(np.array(img_temp).shape)\n",
    "    img_temp = np.array(img_temp)\n",
    "    img_temp = cv2.resize(img_temp, (133,133))\n",
    "    img.append(img_temp)\n",
    "    new_long_lat_str.append(street)\n",
    "\n",
    "  except FileNotFoundError:\n",
    "    print('File is not valid for google steet api')"
   ]
  },
  {
   "cell_type": "markdown",
   "metadata": {
    "id": "EFQdlnbrHMKP"
   },
   "source": [
    "# Construct dataframe for simulation\n",
    " - PCI\n",
    " - LAT, LON"
   ]
  },
  {
   "cell_type": "code",
   "execution_count": null,
   "metadata": {
    "colab": {
     "base_uri": "https://localhost:8080/"
    },
    "id": "n4D8qBKJf3RI",
    "outputId": "c5902aa7-8cba-446d-e9bb-fdd73e0a3a60"
   },
   "outputs": [
    {
     "name": "stdout",
     "output_type": "stream",
     "text": [
      "/content/drive/.shortcut-targets-by-id/1gnVV0eOEygqj9_wnneoTbAKcSf-W4nJS/streetviews2/arrs_pkl\n"
     ]
    }
   ],
   "source": [
    "%cd /content/drive/MyDrive/streetviews2/arrs_pkl/"
   ]
  },
  {
   "cell_type": "code",
   "execution_count": null,
   "metadata": {
    "id": "bMbi5mIIObFI"
   },
   "outputs": [],
   "source": [
    "coor_store = []\n",
    "sim = []\n",
    "\n",
    "# with open('pci_3000_prediction_arr.csv','rb') as f:\n",
    "#   berk_pci.append(pkl.load(f).tolist())\n",
    "\n",
    "\n",
    "# with open('coord_first_1000_arr.csv','rb') as f:\n",
    "#   coor_store.append(pkl.load(f).tolist())\n",
    "\n",
    "with open('new_plot_arr_3000_arr2.csv','rb') as f:\n",
    "  sim.append(pkl.load(f).tolist())"
   ]
  },
  {
   "cell_type": "code",
   "execution_count": null,
   "metadata": {
    "id": "VkUc4HuL4db5"
   },
   "outputs": [],
   "source": [
    "split_coords = [re.split(r',',i) for i in coor_store[0]] #splits pair into individual\n",
    "# split_coords"
   ]
  },
  {
   "cell_type": "code",
   "execution_count": null,
   "metadata": {
    "id": "bSpP4sKK7i6o"
   },
   "outputs": [],
   "source": [
    "lat = []\n",
    "lon = []\n",
    "for pair in split_coords:\n",
    "    temp_lat, temp_lon = pair\n",
    "    lat.append(temp_lat)\n",
    "    lon.append(temp_lon)"
   ]
  },
  {
   "cell_type": "code",
   "execution_count": null,
   "metadata": {
    "colab": {
     "base_uri": "https://localhost:8080/"
    },
    "id": "cawQEgXxVFCO",
    "outputId": "ab5cc882-2f5f-4b7a-df64-0c7e5244f5e6"
   },
   "outputs": [
    {
     "name": "stdout",
     "output_type": "stream",
     "text": [
      "/content/drive/.shortcut-targets-by-id/19rXw0lw__ZgpIRA9o5KsJsAmOyq3r8Pb/Final_Project_Submissions_and_Files\n"
     ]
    }
   ],
   "source": [
    "%cd /content/drive/MyDrive/Final_Project_Submissions_and_Files/"
   ]
  },
  {
   "cell_type": "code",
   "execution_count": null,
   "metadata": {
    "id": "Lcy-zuWFWhyb"
   },
   "outputs": [],
   "source": [
    "# Read PCI predictions\n",
    "pre_PCI = []\n",
    "\n",
    "with open('pci_3000_prediction_arr.csv','rb') as f:\n",
    "  pre_PCI.append(pkl.load(f).tolist())"
   ]
  },
  {
   "cell_type": "code",
   "execution_count": null,
   "metadata": {
    "colab": {
     "base_uri": "https://localhost:8080/",
     "height": 424
    },
    "id": "EBsatI84735e",
    "outputId": "19128282-3eb6-42cd-c496-4eaec96c4846"
   },
   "outputs": [
    {
     "data": {
      "text/html": [
       "\n",
       "  <div id=\"df-f66ca5bd-39ef-4ead-b052-cf25b7a9c570\">\n",
       "    <div class=\"colab-df-container\">\n",
       "      <div>\n",
       "<style scoped>\n",
       "    .dataframe tbody tr th:only-of-type {\n",
       "        vertical-align: middle;\n",
       "    }\n",
       "\n",
       "    .dataframe tbody tr th {\n",
       "        vertical-align: top;\n",
       "    }\n",
       "\n",
       "    .dataframe thead th {\n",
       "        text-align: right;\n",
       "    }\n",
       "</style>\n",
       "<table border=\"1\" class=\"dataframe\">\n",
       "  <thead>\n",
       "    <tr style=\"text-align: right;\">\n",
       "      <th></th>\n",
       "      <th>latitude</th>\n",
       "      <th>longitude</th>\n",
       "      <th>PCI</th>\n",
       "      <th>appreciation</th>\n",
       "    </tr>\n",
       "  </thead>\n",
       "  <tbody>\n",
       "    <tr>\n",
       "      <th>0</th>\n",
       "      <td>37.85399590164562</td>\n",
       "      <td>-122.24576845323176</td>\n",
       "      <td>2</td>\n",
       "      <td>3.283824</td>\n",
       "    </tr>\n",
       "    <tr>\n",
       "      <th>1</th>\n",
       "      <td>37.853864060491375</td>\n",
       "      <td>-122.22240001625444</td>\n",
       "      <td>2</td>\n",
       "      <td>3.432602</td>\n",
       "    </tr>\n",
       "    <tr>\n",
       "      <th>2</th>\n",
       "      <td>37.8530456043654</td>\n",
       "      <td>-122.22293680704696</td>\n",
       "      <td>1</td>\n",
       "      <td>3.253338</td>\n",
       "    </tr>\n",
       "    <tr>\n",
       "      <th>3</th>\n",
       "      <td>37.854215682611695</td>\n",
       "      <td>-122.24441910539876</td>\n",
       "      <td>0</td>\n",
       "      <td>2.669549</td>\n",
       "    </tr>\n",
       "    <tr>\n",
       "      <th>4</th>\n",
       "      <td>37.85424202266612</td>\n",
       "      <td>-122.24328691985671</td>\n",
       "      <td>1</td>\n",
       "      <td>3.174045</td>\n",
       "    </tr>\n",
       "    <tr>\n",
       "      <th>...</th>\n",
       "      <td>...</td>\n",
       "      <td>...</td>\n",
       "      <td>...</td>\n",
       "      <td>...</td>\n",
       "    </tr>\n",
       "    <tr>\n",
       "      <th>2995</th>\n",
       "      <td>37.86428759277844</td>\n",
       "      <td>-122.2790953525607</td>\n",
       "      <td>2</td>\n",
       "      <td>3.228328</td>\n",
       "    </tr>\n",
       "    <tr>\n",
       "      <th>2996</th>\n",
       "      <td>37.84037863434792</td>\n",
       "      <td>-122.26360316532914</td>\n",
       "      <td>3</td>\n",
       "      <td>3.697436</td>\n",
       "    </tr>\n",
       "    <tr>\n",
       "      <th>2997</th>\n",
       "      <td>37.84143033234995</td>\n",
       "      <td>-122.27667312390132</td>\n",
       "      <td>3</td>\n",
       "      <td>3.733851</td>\n",
       "    </tr>\n",
       "    <tr>\n",
       "      <th>2998</th>\n",
       "      <td>37.838258084455774</td>\n",
       "      <td>-122.25801792752902</td>\n",
       "      <td>1</td>\n",
       "      <td>2.857390</td>\n",
       "    </tr>\n",
       "    <tr>\n",
       "      <th>2999</th>\n",
       "      <td>37.84527650425941</td>\n",
       "      <td>-122.25927188292236</td>\n",
       "      <td>1</td>\n",
       "      <td>3.191870</td>\n",
       "    </tr>\n",
       "  </tbody>\n",
       "</table>\n",
       "<p>3000 rows × 4 columns</p>\n",
       "</div>\n",
       "      <button class=\"colab-df-convert\" onclick=\"convertToInteractive('df-f66ca5bd-39ef-4ead-b052-cf25b7a9c570')\"\n",
       "              title=\"Convert this dataframe to an interactive table.\"\n",
       "              style=\"display:none;\">\n",
       "        \n",
       "  <svg xmlns=\"http://www.w3.org/2000/svg\" height=\"24px\"viewBox=\"0 0 24 24\"\n",
       "       width=\"24px\">\n",
       "    <path d=\"M0 0h24v24H0V0z\" fill=\"none\"/>\n",
       "    <path d=\"M18.56 5.44l.94 2.06.94-2.06 2.06-.94-2.06-.94-.94-2.06-.94 2.06-2.06.94zm-11 1L8.5 8.5l.94-2.06 2.06-.94-2.06-.94L8.5 2.5l-.94 2.06-2.06.94zm10 10l.94 2.06.94-2.06 2.06-.94-2.06-.94-.94-2.06-.94 2.06-2.06.94z\"/><path d=\"M17.41 7.96l-1.37-1.37c-.4-.4-.92-.59-1.43-.59-.52 0-1.04.2-1.43.59L10.3 9.45l-7.72 7.72c-.78.78-.78 2.05 0 2.83L4 21.41c.39.39.9.59 1.41.59.51 0 1.02-.2 1.41-.59l7.78-7.78 2.81-2.81c.8-.78.8-2.07 0-2.86zM5.41 20L4 18.59l7.72-7.72 1.47 1.35L5.41 20z\"/>\n",
       "  </svg>\n",
       "      </button>\n",
       "      \n",
       "  <style>\n",
       "    .colab-df-container {\n",
       "      display:flex;\n",
       "      flex-wrap:wrap;\n",
       "      gap: 12px;\n",
       "    }\n",
       "\n",
       "    .colab-df-convert {\n",
       "      background-color: #E8F0FE;\n",
       "      border: none;\n",
       "      border-radius: 50%;\n",
       "      cursor: pointer;\n",
       "      display: none;\n",
       "      fill: #1967D2;\n",
       "      height: 32px;\n",
       "      padding: 0 0 0 0;\n",
       "      width: 32px;\n",
       "    }\n",
       "\n",
       "    .colab-df-convert:hover {\n",
       "      background-color: #E2EBFA;\n",
       "      box-shadow: 0px 1px 2px rgba(60, 64, 67, 0.3), 0px 1px 3px 1px rgba(60, 64, 67, 0.15);\n",
       "      fill: #174EA6;\n",
       "    }\n",
       "\n",
       "    [theme=dark] .colab-df-convert {\n",
       "      background-color: #3B4455;\n",
       "      fill: #D2E3FC;\n",
       "    }\n",
       "\n",
       "    [theme=dark] .colab-df-convert:hover {\n",
       "      background-color: #434B5C;\n",
       "      box-shadow: 0px 1px 3px 1px rgba(0, 0, 0, 0.15);\n",
       "      filter: drop-shadow(0px 1px 2px rgba(0, 0, 0, 0.3));\n",
       "      fill: #FFFFFF;\n",
       "    }\n",
       "  </style>\n",
       "\n",
       "      <script>\n",
       "        const buttonEl =\n",
       "          document.querySelector('#df-f66ca5bd-39ef-4ead-b052-cf25b7a9c570 button.colab-df-convert');\n",
       "        buttonEl.style.display =\n",
       "          google.colab.kernel.accessAllowed ? 'block' : 'none';\n",
       "\n",
       "        async function convertToInteractive(key) {\n",
       "          const element = document.querySelector('#df-f66ca5bd-39ef-4ead-b052-cf25b7a9c570');\n",
       "          const dataTable =\n",
       "            await google.colab.kernel.invokeFunction('convertToInteractive',\n",
       "                                                     [key], {});\n",
       "          if (!dataTable) return;\n",
       "\n",
       "          const docLinkHtml = 'Like what you see? Visit the ' +\n",
       "            '<a target=\"_blank\" href=https://colab.research.google.com/notebooks/data_table.ipynb>data table notebook</a>'\n",
       "            + ' to learn more about interactive tables.';\n",
       "          element.innerHTML = '';\n",
       "          dataTable['output_type'] = 'display_data';\n",
       "          await google.colab.output.renderOutput(dataTable, element);\n",
       "          const docLink = document.createElement('div');\n",
       "          docLink.innerHTML = docLinkHtml;\n",
       "          element.appendChild(docLink);\n",
       "        }\n",
       "      </script>\n",
       "    </div>\n",
       "  </div>\n",
       "  "
      ],
      "text/plain": [
       "                latitude            longitude  PCI  appreciation\n",
       "0      37.85399590164562  -122.24576845323176    2      3.283824\n",
       "1     37.853864060491375  -122.22240001625444    2      3.432602\n",
       "2       37.8530456043654  -122.22293680704696    1      3.253338\n",
       "3     37.854215682611695  -122.24441910539876    0      2.669549\n",
       "4      37.85424202266612  -122.24328691985671    1      3.174045\n",
       "...                  ...                  ...  ...           ...\n",
       "2995   37.86428759277844   -122.2790953525607    2      3.228328\n",
       "2996   37.84037863434792  -122.26360316532914    3      3.697436\n",
       "2997   37.84143033234995  -122.27667312390132    3      3.733851\n",
       "2998  37.838258084455774  -122.25801792752902    1      2.857390\n",
       "2999   37.84527650425941  -122.25927188292236    1      3.191870\n",
       "\n",
       "[3000 rows x 4 columns]"
      ]
     },
     "execution_count": 34,
     "metadata": {},
     "output_type": "execute_result"
    }
   ],
   "source": [
    "final_df = pd.DataFrame(list(zip(lat,lon)),columns=['latitude','longitude'])\n",
    "final_df['PCI'] = pre_PCI[0]\n",
    "final_df['depreciation'] = sim[0]\n",
    "final_df"
   ]
  },
  {
   "cell_type": "code",
   "execution_count": null,
   "metadata": {
    "colab": {
     "base_uri": "https://localhost:8080/"
    },
    "id": "uQLiusZB94iO",
    "outputId": "a447b206-ba24-43d5-c343-9fdd7833c831"
   },
   "outputs": [
    {
     "name": "stdout",
     "output_type": "stream",
     "text": [
      "/content/drive/.shortcut-targets-by-id/19rXw0lw__ZgpIRA9o5KsJsAmOyq3r8Pb/Final_Project_Submissions_and_Files\n"
     ]
    }
   ],
   "source": [
    "%cd /content/drive/MyDrive/Final_Project_Submissions_and_Files/"
   ]
  },
  {
   "cell_type": "markdown",
   "metadata": {
    "id": "flUi8CNJ46hg"
   },
   "source": [
    "# Input Dataframe for Carto input"
   ]
  },
  {
   "cell_type": "code",
   "execution_count": null,
   "metadata": {
    "id": "YY2ZySru911V"
   },
   "outputs": [],
   "source": [
    "# Dont' run again\n",
    "# final_df.to_csv('berkeley_pci_sim_3000.csv',index=False, encoding='utf-8')"
   ]
  },
  {
   "cell_type": "markdown",
   "metadata": {
    "id": "1S9M7GFDRo2e"
   },
   "source": [
    "#Simulating the Effect of Average Annual Temperature on Road Depreciation in Berkeley"
   ]
  },
  {
   "cell_type": "code",
   "execution_count": null,
   "metadata": {
    "colab": {
     "base_uri": "https://localhost:8080/",
     "height": 368
    },
    "id": "VR_qr8FhRpXq",
    "outputId": "f05f5e5d-d32e-467f-c732-8d765e5cab8c"
   },
   "outputs": [
    {
     "data": {
      "text/html": [
       "\n",
       "     <input type=\"file\" id=\"files-89bfd01e-7882-4d34-8202-0c90ee525d73\" name=\"files[]\" multiple disabled\n",
       "        style=\"border:none\" />\n",
       "     <output id=\"result-89bfd01e-7882-4d34-8202-0c90ee525d73\">\n",
       "      Upload widget is only available when the cell has been executed in the\n",
       "      current browser session. Please rerun this cell to enable.\n",
       "      </output>\n",
       "      <script src=\"/nbextensions/google.colab/files.js\"></script> "
      ],
      "text/plain": [
       "<IPython.core.display.HTML object>"
      ]
     },
     "metadata": {},
     "output_type": "display_data"
    },
    {
     "ename": "MessageError",
     "evalue": "ignored",
     "output_type": "error",
     "traceback": [
      "\u001b[0;31m---------------------------------------------------------------------------\u001b[0m",
      "\u001b[0;31mMessageError\u001b[0m                              Traceback (most recent call last)",
      "\u001b[0;32m<ipython-input-29-1ca239b7c492>\u001b[0m in \u001b[0;36m<module>\u001b[0;34m()\u001b[0m\n\u001b[1;32m      2\u001b[0m \u001b[0;32mimport\u001b[0m \u001b[0mnumpy\u001b[0m \u001b[0;32mas\u001b[0m \u001b[0mnp\u001b[0m\u001b[0;34m\u001b[0m\u001b[0;34m\u001b[0m\u001b[0m\n\u001b[1;32m      3\u001b[0m \u001b[0;32mfrom\u001b[0m \u001b[0mgoogle\u001b[0m\u001b[0;34m.\u001b[0m\u001b[0mcolab\u001b[0m \u001b[0;32mimport\u001b[0m \u001b[0mfiles\u001b[0m\u001b[0;34m\u001b[0m\u001b[0;34m\u001b[0m\u001b[0m\n\u001b[0;32m----> 4\u001b[0;31m \u001b[0muploaded\u001b[0m \u001b[0;34m=\u001b[0m \u001b[0mfiles\u001b[0m\u001b[0;34m.\u001b[0m\u001b[0mupload\u001b[0m\u001b[0;34m(\u001b[0m\u001b[0;34m)\u001b[0m\u001b[0;34m\u001b[0m\u001b[0;34m\u001b[0m\u001b[0m\n\u001b[0m",
      "\u001b[0;32m/usr/local/lib/python3.7/dist-packages/google/colab/files.py\u001b[0m in \u001b[0;36mupload\u001b[0;34m()\u001b[0m\n\u001b[1;32m     44\u001b[0m   \"\"\"\n\u001b[1;32m     45\u001b[0m \u001b[0;34m\u001b[0m\u001b[0m\n\u001b[0;32m---> 46\u001b[0;31m   \u001b[0muploaded_files\u001b[0m \u001b[0;34m=\u001b[0m \u001b[0m_upload_files\u001b[0m\u001b[0;34m(\u001b[0m\u001b[0mmultiple\u001b[0m\u001b[0;34m=\u001b[0m\u001b[0;32mTrue\u001b[0m\u001b[0;34m)\u001b[0m\u001b[0;34m\u001b[0m\u001b[0;34m\u001b[0m\u001b[0m\n\u001b[0m\u001b[1;32m     47\u001b[0m   \u001b[0;31m# Mapping from original filename to filename as saved locally.\u001b[0m\u001b[0;34m\u001b[0m\u001b[0;34m\u001b[0m\u001b[0;34m\u001b[0m\u001b[0m\n\u001b[1;32m     48\u001b[0m   \u001b[0mlocal_filenames\u001b[0m \u001b[0;34m=\u001b[0m \u001b[0mdict\u001b[0m\u001b[0;34m(\u001b[0m\u001b[0;34m)\u001b[0m\u001b[0;34m\u001b[0m\u001b[0;34m\u001b[0m\u001b[0m\n",
      "\u001b[0;32m/usr/local/lib/python3.7/dist-packages/google/colab/files.py\u001b[0m in \u001b[0;36m_upload_files\u001b[0;34m(multiple)\u001b[0m\n\u001b[1;32m    121\u001b[0m   result = _output.eval_js(\n\u001b[1;32m    122\u001b[0m       'google.colab._files._uploadFiles(\"{input_id}\", \"{output_id}\")'.format(\n\u001b[0;32m--> 123\u001b[0;31m           input_id=input_id, output_id=output_id))\n\u001b[0m\u001b[1;32m    124\u001b[0m   \u001b[0mfiles\u001b[0m \u001b[0;34m=\u001b[0m \u001b[0m_collections\u001b[0m\u001b[0;34m.\u001b[0m\u001b[0mdefaultdict\u001b[0m\u001b[0;34m(\u001b[0m\u001b[0m_six\u001b[0m\u001b[0;34m.\u001b[0m\u001b[0mbinary_type\u001b[0m\u001b[0;34m)\u001b[0m\u001b[0;34m\u001b[0m\u001b[0;34m\u001b[0m\u001b[0m\n\u001b[1;32m    125\u001b[0m \u001b[0;34m\u001b[0m\u001b[0m\n",
      "\u001b[0;32m/usr/local/lib/python3.7/dist-packages/google/colab/output/_js.py\u001b[0m in \u001b[0;36meval_js\u001b[0;34m(script, ignore_result, timeout_sec)\u001b[0m\n\u001b[1;32m     38\u001b[0m   \u001b[0;32mif\u001b[0m \u001b[0mignore_result\u001b[0m\u001b[0;34m:\u001b[0m\u001b[0;34m\u001b[0m\u001b[0;34m\u001b[0m\u001b[0m\n\u001b[1;32m     39\u001b[0m     \u001b[0;32mreturn\u001b[0m\u001b[0;34m\u001b[0m\u001b[0;34m\u001b[0m\u001b[0m\n\u001b[0;32m---> 40\u001b[0;31m   \u001b[0;32mreturn\u001b[0m \u001b[0m_message\u001b[0m\u001b[0;34m.\u001b[0m\u001b[0mread_reply_from_input\u001b[0m\u001b[0;34m(\u001b[0m\u001b[0mrequest_id\u001b[0m\u001b[0;34m,\u001b[0m \u001b[0mtimeout_sec\u001b[0m\u001b[0;34m)\u001b[0m\u001b[0;34m\u001b[0m\u001b[0;34m\u001b[0m\u001b[0m\n\u001b[0m\u001b[1;32m     41\u001b[0m \u001b[0;34m\u001b[0m\u001b[0m\n\u001b[1;32m     42\u001b[0m \u001b[0;34m\u001b[0m\u001b[0m\n",
      "\u001b[0;32m/usr/local/lib/python3.7/dist-packages/google/colab/_message.py\u001b[0m in \u001b[0;36mread_reply_from_input\u001b[0;34m(message_id, timeout_sec)\u001b[0m\n\u001b[1;32m    104\u001b[0m         reply.get('colab_msg_id') == message_id):\n\u001b[1;32m    105\u001b[0m       \u001b[0;32mif\u001b[0m \u001b[0;34m'error'\u001b[0m \u001b[0;32min\u001b[0m \u001b[0mreply\u001b[0m\u001b[0;34m:\u001b[0m\u001b[0;34m\u001b[0m\u001b[0;34m\u001b[0m\u001b[0m\n\u001b[0;32m--> 106\u001b[0;31m         \u001b[0;32mraise\u001b[0m \u001b[0mMessageError\u001b[0m\u001b[0;34m(\u001b[0m\u001b[0mreply\u001b[0m\u001b[0;34m[\u001b[0m\u001b[0;34m'error'\u001b[0m\u001b[0;34m]\u001b[0m\u001b[0;34m)\u001b[0m\u001b[0;34m\u001b[0m\u001b[0;34m\u001b[0m\u001b[0m\n\u001b[0m\u001b[1;32m    107\u001b[0m       \u001b[0;32mreturn\u001b[0m \u001b[0mreply\u001b[0m\u001b[0;34m.\u001b[0m\u001b[0mget\u001b[0m\u001b[0;34m(\u001b[0m\u001b[0;34m'data'\u001b[0m\u001b[0;34m,\u001b[0m \u001b[0;32mNone\u001b[0m\u001b[0;34m)\u001b[0m\u001b[0;34m\u001b[0m\u001b[0;34m\u001b[0m\u001b[0m\n\u001b[1;32m    108\u001b[0m \u001b[0;34m\u001b[0m\u001b[0m\n",
      "\u001b[0;31mMessageError\u001b[0m: TypeError: Cannot read properties of undefined (reading '_uploadFiles')"
     ]
    }
   ],
   "source": [
    "import pandas as pd\n",
    "import numpy as np\n",
    "from google.colab import files\n",
    "uploaded = files.upload()"
   ]
  },
  {
   "cell_type": "code",
   "execution_count": null,
   "metadata": {
    "colab": {
     "base_uri": "https://localhost:8080/"
    },
    "id": "ayIFSGyJRuBc",
    "outputId": "c16c8c73-e806-430b-dd42-74376477816c"
   },
   "outputs": [
    {
     "name": "stderr",
     "output_type": "stream",
     "text": [
      "/usr/local/lib/python3.7/dist-packages/IPython/core/interactiveshell.py:2882: DtypeWarning: Columns (2) have mixed types.Specify dtype option on import or set low_memory=False.\n",
      "  exec(code_obj, self.user_global_ns, self.user_ns)\n"
     ]
    }
   ],
   "source": [
    "temp_data = pd.read_csv('city_temperature.csv')"
   ]
  },
  {
   "cell_type": "code",
   "execution_count": null,
   "metadata": {
    "colab": {
     "base_uri": "https://localhost:8080/"
    },
    "id": "1yx3Rv8FRvuQ",
    "outputId": "0d4d57ed-79c2-40df-be88-3c626e503bec"
   },
   "outputs": [
    {
     "name": "stderr",
     "output_type": "stream",
     "text": [
      "/usr/local/lib/python3.7/dist-packages/ipykernel_launcher.py:2: SettingWithCopyWarning: \n",
      "A value is trying to be set on a copy of a slice from a DataFrame.\n",
      "Try using .loc[row_indexer,col_indexer] = value instead\n",
      "\n",
      "See the caveats in the documentation: https://pandas.pydata.org/pandas-docs/stable/user_guide/indexing.html#returning-a-view-versus-a-copy\n",
      "  \n"
     ]
    }
   ],
   "source": [
    "temp_data = temp_data[temp_data['Country'] == 'US']\n",
    "temp_data['Celsius'] = ((temp_data['AvgTemperature'] - 32) * (5/9)).round(2)\n",
    "numberone = temp_data.groupby(['City', 'Year']).mean()['Celsius'].reset_index()\n",
    "avg_temps = numberone.drop(['Year'], axis = 1).groupby(['City']).mean().reset_index().rename(columns = {'City': 'City', 'Celsius':'Avg Temp'})\n",
    "stds = numberone.drop(['Year'], axis = 1).groupby(['City']).std().reset_index().rename(columns = {'City': 'City2', 'Celsius': 'STD'})\n",
    "agg_df = pd.concat([avg_temps, stds], axis = 1).drop(['City2'], axis = 1)\n",
    "agg_df = agg_df.set_index('City')\n",
    "agg_df.rename(index = {'San Francisco': 'Berkeley'}, inplace = True)\n",
    "agg_df = agg_df.reset_index()"
   ]
  },
  {
   "cell_type": "code",
   "execution_count": null,
   "metadata": {
    "id": "-Z7kXAlLRyn5"
   },
   "outputs": [],
   "source": [
    "def pa(predicted_PCI):\n",
    "  if predicted_PCI >= 70:\n",
    "    pa = 1/2 * (100.1 - predicted_PCI)\n",
    "  elif predicted_PCI >= 55:\n",
    "    pa = 1/3 * (100.1 - predicted_PCI)\n",
    "  elif predicted_PCI >= 40:\n",
    "    pa = 1/2.5 * (100.1 - predicted_PCI)\n",
    "  elif predicted_PCI >= 25:\n",
    "    pa = 1/2 * (100.1 - predicted_PCI)\n",
    "  else:\n",
    "    pa = 1/1.5 * (100.1 - predicted_PCI)\n",
    "  return pa\n",
    "def simulated_temperature_depreciation(predicted_PCI):\n",
    "  if predicted_PCI == 0:\n",
    "    PCI = np.random.uniform(85, 100)\n",
    "  elif predicted_PCI == 1:\n",
    "    PCI = np.random.uniform(70, 85)\n",
    "  elif predicted_PCI == 2:\n",
    "    PCI = np.random.uniform(55, 70)\n",
    "  elif predicted_PCI == 3:\n",
    "    PCI = np.random.uniform(40, 55)\n",
    "  elif predicted_PCI == 4:\n",
    "    PCI = np.random.uniform(25, 40)\n",
    "  else:\n",
    "    PCI = np.random.uniform(0, 25)\n",
    "  arr = []\n",
    "  for i in np.arange(1000):\n",
    "    the_city = agg_df[agg_df['City'] == 'Berkeley']\n",
    "    AAT = np.random.normal(the_city['Avg Temp'], the_city['STD'])[0]\n",
    "    estimate = 130.36 - (4.56 * pa(PCI)) - (AAT * 3.98) + (.1988 * (AAT)**2)\n",
    "    depreciation_est = -0.000121628 * (estimate**2) - .00523004 * estimate + 3.95978\n",
    "    arr.append(depreciation_est)\n",
    "  return np.mean(arr)"
   ]
  },
  {
   "cell_type": "code",
   "execution_count": null,
   "metadata": {
    "id": "Wt-pI62UR1zR"
   },
   "outputs": [],
   "source": [
    "plot_arr = []\n",
    "for i in np.arange(len(pre[0])): # 6\n",
    "  result = simulated_temperature_depreciation(pre[0][i])\n",
    "  plot_arr.append(result)\n",
    "#import matplotlib.pyplot as plt\n",
    "# plt.plot(np.arange(101), plot_arr)"
   ]
  },
  {
   "cell_type": "code",
   "execution_count": null,
   "metadata": {
    "id": "2yapU3oPykJv"
   },
   "outputs": [],
   "source": [
    "plot_arr"
   ]
  },
  {
   "cell_type": "code",
   "execution_count": null,
   "metadata": {
    "colab": {
     "base_uri": "https://localhost:8080/"
    },
    "id": "f6n1Zq6AeaYi",
    "outputId": "77df5a7e-a2f3-4b9e-d7ea-e22f7e54daef"
   },
   "outputs": [
    {
     "data": {
      "text/plain": [
       "0.5585396199960977"
      ]
     },
     "execution_count": 42,
     "metadata": {},
     "output_type": "execute_result"
    }
   ],
   "source": [
    "min(plot_arr)"
   ]
  },
  {
   "cell_type": "code",
   "execution_count": null,
   "metadata": {
    "colab": {
     "base_uri": "https://localhost:8080/"
    },
    "id": "qVV2fmJlcJTH",
    "outputId": "5f79f1c8-49af-4682-9565-5bf1fa47091b"
   },
   "outputs": [
    {
     "data": {
      "text/plain": [
       "3000"
      ]
     },
     "execution_count": 35,
     "metadata": {},
     "output_type": "execute_result"
    }
   ],
   "source": [
    "len(plot_arr)"
   ]
  },
  {
   "cell_type": "markdown",
   "metadata": {
    "id": "atx77-1l5Ptm"
   },
   "source": [
    "# Final simulation csv (list) for Depreciation, dont' run"
   ]
  },
  {
   "cell_type": "code",
   "execution_count": null,
   "metadata": {
    "id": "M9PkMWefbkGa"
   },
   "outputs": [],
   "source": [
    "# new_plot_arr= np.array(plot_arr)\n",
    "# with open('new_plot_arr_3000_arr2.csv','wb') as f:\n",
    "#   pkl.dump(new_plot_arr, f)"
   ]
  },
  {
   "cell_type": "code",
   "execution_count": null,
   "metadata": {
    "id": "WBQgxYsPbkUd"
   },
   "outputs": [],
   "source": []
  }
 ],
 "metadata": {
  "colab": {
   "provenance": []
  },
  "kernelspec": {
   "display_name": "Python 3 (ipykernel)",
   "language": "python",
   "name": "python3"
  },
  "language_info": {
   "codemirror_mode": {
    "name": "ipython",
    "version": 3
   },
   "file_extension": ".py",
   "mimetype": "text/x-python",
   "name": "python",
   "nbconvert_exporter": "python",
   "pygments_lexer": "ipython3",
   "version": "3.8.2"
  }
 },
 "nbformat": 4,
 "nbformat_minor": 1
}
